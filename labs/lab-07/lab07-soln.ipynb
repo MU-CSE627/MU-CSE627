{
 "cells": [
  {
   "cell_type": "markdown",
   "metadata": {},
   "source": [
    "# Lab 07 -- More NN\n",
    "\n",
    "Note I have added the solution to the exercise at the bottom of the lab."
   ]
  },
  {
   "cell_type": "code",
   "execution_count": 1,
   "metadata": {},
   "outputs": [
    {
     "name": "stdout",
     "output_type": "stream",
     "text": [
      "Populating the interactive namespace from numpy and matplotlib\n"
     ]
    }
   ],
   "source": [
    "%pylab inline"
   ]
  },
  {
   "cell_type": "markdown",
   "metadata": {},
   "source": [
    "# Goals for the lab\n",
    "- Repeat the logistic regression exercise but add tensorflow logging\n",
    "- Save the model weights\n",
    "- Add a hidden layer to the net"
   ]
  },
  {
   "cell_type": "code",
   "execution_count": 32,
   "metadata": {},
   "outputs": [],
   "source": [
    "import tensorflow as tf\n",
    "import numpy as np\n",
    "import os"
   ]
  },
  {
   "cell_type": "code",
   "execution_count": 3,
   "metadata": {},
   "outputs": [
    {
     "name": "stdout",
     "output_type": "stream",
     "text": [
      "Extracting data/MNIST/train-images-idx3-ubyte.gz\n",
      "Extracting data/MNIST/train-labels-idx1-ubyte.gz\n",
      "Extracting data/MNIST/t10k-images-idx3-ubyte.gz\n",
      "Extracting data/MNIST/t10k-labels-idx1-ubyte.gz\n"
     ]
    }
   ],
   "source": [
    "from tensorflow.examples.tutorials.mnist import input_data\n",
    "data = input_data.read_data_sets(\"data/MNIST/\", one_hot=True)"
   ]
  },
  {
   "cell_type": "code",
   "execution_count": 4,
   "metadata": {
    "collapsed": true
   },
   "outputs": [],
   "source": [
    "# The %run command executes a python file as if it was a cell in the notebook. \n",
    "%run plot_images.py"
   ]
  },
  {
   "cell_type": "code",
   "execution_count": 5,
   "metadata": {},
   "outputs": [
    {
     "data": {
      "image/png": "[encoded data removed]",
      "text/plain": [
       "<matplotlib.figure.Figure at 0x7f2cc1032198>"
      ]
     },
     "metadata": {},
     "output_type": "display_data"
    }
   ],
   "source": [
    "x_batch, y_batch = data.train.next_batch(9)\n",
    "plot_images(x_batch, y_batch.argmax(1))"
   ]
  },
  {
   "cell_type": "markdown",
   "metadata": {},
   "source": [
    "# Set up a net to estimate/predict digits"
   ]
  },
  {
   "cell_type": "code",
   "execution_count": 6,
   "metadata": {
    "collapsed": true
   },
   "outputs": [],
   "source": [
    "#hyperparameters\n",
    "num_inputs = 28*28\n",
    "num_outputs = 10"
   ]
  },
  {
   "cell_type": "code",
   "execution_count": 7,
   "metadata": {
    "collapsed": true
   },
   "outputs": [],
   "source": [
    "tf.reset_default_graph()"
   ]
  },
  {
   "cell_type": "markdown",
   "metadata": {},
   "source": [
    "Input placeholders for the data `x` and the expected (1hot) labels `y`."
   ]
  },
  {
   "cell_type": "code",
   "execution_count": 8,
   "metadata": {
    "collapsed": true
   },
   "outputs": [],
   "source": [
    "with tf.name_scope('input'):\n",
    "    x = tf.placeholder(tf.float32, (None, 28*28), name='x')\n",
    "    y = tf.placeholder(tf.float32, (None, 10), name='y')\n",
    "    ec = tf.argmax(y, 1, name='ec') #[e]xpected [c]lass label\n",
    "  \n",
    "    # When this node is run, it will save an image to a log file.\n",
    "    #  - I am not assigning a variable to the result;,\n",
    "    #    all of the summary nodes can be collected by inspecting the graph later on. \n",
    "    tf.summary.image(\"image\", tf.reshape(x, [-1, 28,28,1]), max_outputs=3);"
   ]
  },
  {
   "cell_type": "markdown",
   "metadata": {},
   "source": [
    "In tensorflow, you can create nodes in the graph whose purpose is to save information to log files. The log files can be inspected using a tool called [TensorBoard](https://www.tensorflow.org/get_started/summaries_and_tensorboard). I hope to be able to demonstrate it later on in the notebook."
   ]
  },
  {
   "cell_type": "markdown",
   "metadata": {},
   "source": [
    "When we save data to the log file, the names become more important. We can group related nodes together using a 'name_scope' in order to make the log files easier to understand. "
   ]
  },
  {
   "cell_type": "code",
   "execution_count": 9,
   "metadata": {
    "collapsed": true
   },
   "outputs": [],
   "source": [
    "with tf.name_scope('output'):\n",
    "    b = tf.Variable(tf.zeros(num_outputs), name='b')\n",
    "    W = tf.Variable(tf.truncated_normal([num_inputs, num_outputs]), name='W')\n",
    "    a = tf.add(tf.matmul(x, W), b, name='a')\n",
    "    z = tf.nn.softmax(a, name='z')\n",
    "    pc = tf.argmax(z, 1, name='pc')  # [p]redicted [c]lass label\n",
    "    \n",
    "    # Create nodes that will save histograms to the log file\n",
    "    #  -- histograms are good summaries of the (large) amount of data in the weights. \n",
    "    #  -- The let you spot common issues with gradient descent (stalling, diverging)\n",
    "    tf.summary.histogram(\"weights\", W)\n",
    "    tf.summary.histogram(\"biases\", b)\n",
    "    tf.summary.histogram(\"activations\", pc)"
   ]
  },
  {
   "cell_type": "markdown",
   "metadata": {},
   "source": [
    "The net is now complete for doing _inference_ or _estimation_. That is, you could use it (if the weights were set). Right now the weights are randomly set, the results will be random."
   ]
  },
  {
   "cell_type": "code",
   "execution_count": 10,
   "metadata": {},
   "outputs": [
    {
     "data": {
      "image/png": "[encoded data removed]",
      "text/plain": [
       "<matplotlib.figure.Figure at 0x7f2cce17bdd8>"
      ]
     },
     "metadata": {},
     "output_type": "display_data"
    }
   ],
   "source": [
    "sess = tf.InteractiveSession()\n",
    "sess.run(tf.global_variables_initializer())\n",
    "\n",
    "x_batch, y_batch = data.test.next_batch(9)\n",
    "predictions = sess.run(pc, {x:x_batch, y:y_batch})\n",
    "plot_images(x_batch, y_batch.argmax(1), predictions)"
   ]
  },
  {
   "cell_type": "markdown",
   "metadata": {},
   "source": [
    "# Set up the net for evaluation"
   ]
  },
  {
   "cell_type": "code",
   "execution_count": 11,
   "metadata": {
    "collapsed": true
   },
   "outputs": [],
   "source": [
    "with tf.name_scope('accuracy'):\n",
    "    correct = tf.equal(ec, pc, name='correct')  # for each sample, did we get it right? \n",
    "    accuracy = tf.reduce_mean(tf.cast(correct, tf.float32), name='acc')\n",
    "\n",
    "    # Create a node to save the accuracy to a log file, \n",
    "    # so that we can go back and see how it improves after training. \n",
    "    tf.summary.scalar('accuracy', accuracy);"
   ]
  },
  {
   "cell_type": "code",
   "execution_count": 12,
   "metadata": {},
   "outputs": [
    {
     "name": "stdout",
     "output_type": "stream",
     "text": [
      "Accuracy: 0.08969999849796295\n",
      "Random chance is around 0.10 (10%)\n"
     ]
    }
   ],
   "source": [
    "# Normally, we would need to break the test data up into mini-batches.\n",
    "# however, this set is small enough that we will send the entire \n",
    "# test set in as one large batch. \n",
    "print(\"Accuracy: {}\".format(sess.run(accuracy, {x:data.test.images, y:data.test.labels})))\n",
    "print(\"Random chance is around 0.10 (10%)\")"
   ]
  },
  {
   "cell_type": "markdown",
   "metadata": {},
   "source": [
    "# Save the log/summary data"
   ]
  },
  {
   "cell_type": "markdown",
   "metadata": {},
   "source": [
    "Before we start training, let's look at the log data. "
   ]
  },
  {
   "cell_type": "markdown",
   "metadata": {},
   "source": [
    "*NOTE:* All log files will accumulate in the folder unless you delete them, or switch to a different log folder. If you are running this many times and adjusting settings, it is a good idea to think about how to choose differently named log folders for output. "
   ]
  },
  {
   "cell_type": "code",
   "execution_count": 13,
   "metadata": {
    "collapsed": true
   },
   "outputs": [],
   "source": [
    "!mkdir -p ./log/run0"
   ]
  },
  {
   "cell_type": "code",
   "execution_count": 14,
   "metadata": {
    "collapsed": true
   },
   "outputs": [],
   "source": [
    "# Collect all of the 'summary' nodes from the graph and generate a single log entry from them. \n",
    "summary = tf.summary.merge_all()"
   ]
  },
  {
   "cell_type": "code",
   "execution_count": 15,
   "metadata": {
    "collapsed": true
   },
   "outputs": [],
   "source": [
    "# A utility to save summarys to the log directory. \n",
    "#  -- This will create a file, each time we add a summary to the writer it gets appended to a log file.\n",
    "summary_writer = tf.summary.FileWriter('./log/run0', graph=sess.graph)"
   ]
  },
  {
   "cell_type": "code",
   "execution_count": 16,
   "metadata": {
    "collapsed": true
   },
   "outputs": [],
   "source": [
    "acc, log =  sess.run([accuracy, summary],\n",
    "                     {x:data.test.images, y:data.test.labels})\n",
    "summary_writer.add_summary(log, 0)"
   ]
  },
  {
   "cell_type": "markdown",
   "metadata": {},
   "source": [
    "In order to train the net, we need to define an objective function to minimize. In this case we will use the cross-entropy loss because our output it a softmax classification. "
   ]
  },
  {
   "cell_type": "code",
   "execution_count": 17,
   "metadata": {},
   "outputs": [
    {
     "name": "stdout",
     "output_type": "stream",
     "text": [
      "Acuracy:\n",
      "\n",
      "Make sure the correct conda environment is active, then run:\n",
      "    tensorboard --logdir=/home/justin/cse627a/log \n",
      "and open\n",
      "    http://localhost:6006/\n",
      "using your web browser\n"
     ]
    }
   ],
   "source": [
    "from pipes import quote\n",
    "print(\"Acuracy:\".format(acc))\n",
    "print()\n",
    "print(\"Make sure the correct conda environment is active, then run:\")\n",
    "print(\"    tensorboard --logdir={} \".format(quote(os.path.abspath('./log'))))\n",
    "print(\"and open\")\n",
    "print(\"    http://localhost:6006/\")\n",
    "print(\"using your web browser\")"
   ]
  },
  {
   "cell_type": "markdown",
   "metadata": {},
   "source": [
    "# Set up the graph for training"
   ]
  },
  {
   "cell_type": "code",
   "execution_count": 18,
   "metadata": {
    "collapsed": true
   },
   "outputs": [],
   "source": [
    "with tf.name_scope('loss'):\n",
    "    cross_entropy = tf.nn.softmax_cross_entropy_with_logits(labels=y, logits=a)\n",
    "    loss = tf.reduce_mean(cross_entropy, name='loss')\n",
    "\n",
    "    # And define a node to log it\n",
    "    tf.summary.scalar('loss', loss);"
   ]
  },
  {
   "cell_type": "code",
   "execution_count": 19,
   "metadata": {
    "collapsed": true
   },
   "outputs": [],
   "source": [
    "with tf.name_scope('solver'):\n",
    "    solver = tf.train.AdamOptimizer()\n",
    "    optimize = solver.minimize(loss)"
   ]
  },
  {
   "cell_type": "code",
   "execution_count": 20,
   "metadata": {
    "collapsed": true
   },
   "outputs": [],
   "source": [
    "summary_writer = tf.summary.FileWriter('./log/run1/', graph=sess.graph)"
   ]
  },
  {
   "cell_type": "code",
   "execution_count": 21,
   "metadata": {
    "collapsed": true
   },
   "outputs": [],
   "source": [
    "# The solver has some parameters that need to be initializes\n",
    "sess.run(tf.global_variables_initializer())"
   ]
  },
  {
   "cell_type": "code",
   "execution_count": 22,
   "metadata": {
    "collapsed": true
   },
   "outputs": [],
   "source": [
    "# Add ops to save and restore all the variables.\n",
    "saver = tf.train.Saver()"
   ]
  },
  {
   "cell_type": "code",
   "execution_count": 23,
   "metadata": {},
   "outputs": [
    {
     "name": "stdout",
     "output_type": "stream",
     "text": [
      "INFO:tensorflow:Restoring parameters from ./models/logreg.cpt\n",
      "No model to restore\n",
      "Epoch: 0001 cost= 4.720562264\n",
      "Epoch: 0002 cost= 1.371919554\n",
      "Epoch: 0003 cost= 0.944586730\n",
      "Epoch: 0004 cost= 0.760865335\n",
      "Epoch: 0005 cost= 0.652589689\n",
      "Epoch: 0006 cost= 0.581364032\n",
      "Epoch: 0007 cost= 0.530487438\n",
      "Epoch: 0008 cost= 0.491582816\n",
      "Epoch: 0009 cost= 0.462384792\n",
      "Epoch: 0010 cost= 0.438551794\n",
      "Epoch: 0011 cost= 0.419319306\n",
      "Epoch: 0012 cost= 0.403087353\n",
      "Epoch: 0013 cost= 0.389303462\n",
      "Epoch: 0014 cost= 0.377467859\n",
      "Epoch: 0015 cost= 0.367368911\n",
      "Epoch: 0016 cost= 0.357773887\n",
      "Epoch: 0017 cost= 0.349654566\n",
      "Epoch: 0018 cost= 0.342827139\n",
      "Epoch: 0019 cost= 0.335817871\n",
      "Epoch: 0020 cost= 0.329968826\n"
     ]
    }
   ],
   "source": [
    " # Training cycle\n",
    "batch_size=100\n",
    "training_epochs=20\n",
    "display_epoch=1\n",
    "\n",
    "try:\n",
    "    saver.restore(sess, './models/logreg.cpt')\n",
    "except:\n",
    "    print(\"No model to restore\")\n",
    "\n",
    "for epoch in range(training_epochs):\n",
    "    avg_loss = 0.\n",
    "    total_batch = int(data.train.num_examples/batch_size)\n",
    "    \n",
    "    for i in range(total_batch):\n",
    "        batch_xs, batch_ys = data.train.next_batch(batch_size)\n",
    "       \n",
    "        _, loss_, summary_ = sess.run([optimize, loss, summary],\n",
    "                                    {x: batch_xs, y: batch_ys})\n",
    "        \n",
    "        global_iteration =  epoch * total_batch + i\n",
    "        summary_writer.add_summary(summary_, global_iteration)\n",
    "        \n",
    "        avg_loss += loss_ / total_batch\n",
    "        \n",
    "    # Display logs per epoch step\n",
    "    if (epoch+1) % display_epoch == 0:\n",
    "        print(\"Epoch:\", '%04d' % (epoch+1), \"cost=\", \"{:.9f}\".format(avg_loss))\n",
    "    \n",
    "    saver.save(sess, './models/logreg.cpt')"
   ]
  },
  {
   "cell_type": "markdown",
   "metadata": {},
   "source": [
    "# Exercise: Add a hidden layer (Solution)"
   ]
  },
  {
   "cell_type": "markdown",
   "metadata": {},
   "source": [
    "Let's go back and add a hidden layer. In addition to adding a hidden layer, we will also periodically check our model with the validation set and log the data. This gives a way to determine how well our model will generalize. Adding validation results to the summaries will require a few changes in how the summaries are built.\n",
    "\n",
    "First, since we are adding a hidden layer, we will have another parameter to tune our nerual network. This is the number of nodes in the hidden layer. For now we will set this to 1000, but this could be adjusted later."
   ]
  },
  {
   "cell_type": "code",
   "execution_count": 24,
   "metadata": {
    "collapsed": true
   },
   "outputs": [],
   "source": [
    "#hyperparameters\n",
    "hidden_layer_size = 1000"
   ]
  },
  {
   "cell_type": "code",
   "execution_count": 25,
   "metadata": {
    "collapsed": true
   },
   "outputs": [],
   "source": [
    "# Clear the current graph so that we can build a new graph\n",
    "tf.reset_default_graph()"
   ]
  },
  {
   "cell_type": "markdown",
   "metadata": {},
   "source": [
    "First we define the input layer. This is the same as before."
   ]
  },
  {
   "cell_type": "code",
   "execution_count": 26,
   "metadata": {
    "collapsed": true
   },
   "outputs": [],
   "source": [
    "with tf.name_scope('input'):\n",
    "    x = tf.placeholder(tf.float32, (None, 28*28), name='x')\n",
    "    y = tf.placeholder(tf.float32, (None, 10), name='y')\n",
    "    ec = tf.argmax(y, 1, name='ec')\n",
    "  \n",
    "    tf.summary.image(\"image\", tf.reshape(x, [-1, 28,28,1]), max_outputs=3)"
   ]
  },
  {
   "cell_type": "markdown",
   "metadata": {},
   "source": [
    "Now we build our hidden layer. This layer will take the input, multiply by the weight tensor, and add a bias. That is:\n",
    "$$ \\mathbf{h_1} = f(\\mathbf{W}\\mathbf{x} + \\mathbf{b}) $$\n",
    "where $\\mathbf{x}$ is the input tensor, $\\mathbf{W}$ is the weights, $\\mathbf{b}$ is the bias, and $f$ is our activation function. Note that we have $\\mathbf{x}\\mathbf{W}$ in the code because of the shape of the input.\n",
    "\n",
    "For the activation function, we will use a rectified linear unit (ReLU). ReLU is mathematically defined as:\n",
    "$$f(x)=max(0,x)$$\n",
    "ReLU has several advantages over other activation functions, including both efficient computation and efficient gradient propagation.\n",
    "\n",
    "For the output layer, we do the same as before but use the output of the hidden layer as input."
   ]
  },
  {
   "cell_type": "code",
   "execution_count": 27,
   "metadata": {
    "collapsed": true
   },
   "outputs": [],
   "source": [
    "with tf.name_scope('hidden_layer'):\n",
    "    b1 = tf.Variable(tf.zeros(hidden_layer_size), name='b1')\n",
    "    W1 = tf.Variable(tf.truncated_normal([num_inputs, hidden_layer_size]), name='W')\n",
    "    preactivations = tf.add(tf.matmul(x, W1), b1, name='preactivations')\n",
    "    activations = tf.nn.relu(preactivations, name='activations')\n",
    "    \n",
    "    # Hidden layer summaries\n",
    "    tf.summary.histogram(\"weights_hidden_layer\", W1)\n",
    "    tf.summary.histogram(\"biases_hidden_layer\", b1)\n",
    "\n",
    "with tf.name_scope('output'):\n",
    "    b2 = tf.Variable(tf.zeros(num_outputs), name='b2')\n",
    "    W2 = tf.Variable(tf.truncated_normal([hidden_layer_size, num_outputs]), name='W1')\n",
    "    logits = tf.add(tf.matmul(activations, W2), b2, name='logits')\n",
    "    \n",
    "    z = tf.nn.softmax(logits, name='z')\n",
    "    pc = tf.argmax(z, 1, name='pc')\n",
    "    \n",
    "    # output layer summaries\n",
    "    tf.summary.histogram(\"weights_output\", W2)\n",
    "    tf.summary.histogram(\"biases_output\", b2)\n",
    "    \n",
    "# Merge all the summaries we have made so far.\n",
    "network_summary = tf.summary.merge_all()"
   ]
  },
  {
   "cell_type": "markdown",
   "metadata": {},
   "source": [
    "Now we create the nodes that calculate the loss and accuracy. Our solver is the same as before. Notice that we have two seperate summaries for the training and validation. This is because if we use the same summary, both training and validation data will be added to the same graph, which is undesirable."
   ]
  },
  {
   "cell_type": "code",
   "execution_count": 28,
   "metadata": {
    "collapsed": true
   },
   "outputs": [],
   "source": [
    "with tf.name_scope('loss'):\n",
    "    cross_entropy = tf.nn.softmax_cross_entropy_with_logits(labels=y, logits=logits)\n",
    "    loss = tf.reduce_mean(cross_entropy, name='loss')\n",
    "\n",
    "    # Create nodes to log training and validation log loss.\n",
    "    training_loss_summary = tf.summary.scalar('training_loss', loss)\n",
    "    validation_loss_summary = tf.summary.scalar('validation_loss', loss)\n",
    "    \n",
    "with tf.name_scope('solver'):\n",
    "    solver = tf.train.AdamOptimizer()\n",
    "    optimize = solver.minimize(loss)\n",
    "    \n",
    "with tf.name_scope('accuracy'):\n",
    "    correct = tf.equal(ec, pc, name='correct')\n",
    "    accuracy = tf.reduce_mean(tf.cast(correct, tf.float32), name='acc')\n",
    "\n",
    "    # Create nodes to log training and validation accuracy.\n",
    "    training_accuracy_summary = tf.summary.scalar(\"training_accuracy\", accuracy)\n",
    "    validation_accuracy_summary = tf.summary.scalar(\"validation_accuracy\", accuracy)"
   ]
  },
  {
   "cell_type": "markdown",
   "metadata": {},
   "source": [
    "Create the two seperate summaries. train_summary logs weight data, sample images, along with the accuracy and log loss. validation_summary just keeps track of the validation accuracy and log loss."
   ]
  },
  {
   "cell_type": "code",
   "execution_count": 29,
   "metadata": {
    "collapsed": true
   },
   "outputs": [],
   "source": [
    "train_summary = tf.summary.merge([training_loss_summary, training_accuracy_summary, network_summary])\n",
    "validation_summary = tf.summary.merge([validation_loss_summary, validation_accuracy_summary])"
   ]
  },
  {
   "cell_type": "code",
   "execution_count": 30,
   "metadata": {},
   "outputs": [
    {
     "name": "stdout",
     "output_type": "stream",
     "text": [
      "INFO:tensorflow:Restoring parameters from ./models/logreg2.cpt\n",
      "No model to restore\n"
     ]
    }
   ],
   "source": [
    "# Training cycle\n",
    "batch_size=100\n",
    "training_epochs=20\n",
    "display_epoch=1 # also determines when to run the validation set.\n",
    "\n",
    "sess = tf.InteractiveSession()\n",
    "sess.run(tf.global_variables_initializer())\n",
    "\n",
    "summary_writer = tf.summary.FileWriter('./log/run2/', graph=sess.graph)\n",
    "\n",
    "saver = tf.train.Saver()\n",
    "try:\n",
    "    saver.restore(sess, './models/logreg2.cpt')\n",
    "except:\n",
    "    print(\"No model to restore\")"
   ]
  },
  {
   "cell_type": "markdown",
   "metadata": {},
   "source": [
    "Finally, we train the model. This is the same as before, except we use our new summary nodes. Note that this takes a while to train."
   ]
  },
  {
   "cell_type": "code",
   "execution_count": 31,
   "metadata": {},
   "outputs": [
    {
     "name": "stdout",
     "output_type": "stream",
     "text": [
      "Epoch: 0001 train loss= 18.8901 train acc= 0.7841 val loss= 6.2379 val acc= 0.8972\n",
      "Epoch: 0002 train loss= 4.8123 train acc= 0.9107 val loss= 3.8810 val acc= 0.9272\n",
      "Epoch: 0003 train loss= 2.9480 train acc= 0.9356 val loss= 3.2596 val acc= 0.9350\n",
      "Epoch: 0004 train loss= 1.9939 train acc= 0.9493 val loss= 2.9646 val acc= 0.9370\n",
      "Epoch: 0005 train loss= 1.3602 train acc= 0.9602 val loss= 2.4540 val acc= 0.9454\n",
      "Epoch: 0006 train loss= 0.9672 train acc= 0.9671 val loss= 2.2819 val acc= 0.9488\n",
      "Epoch: 0007 train loss= 0.6630 train acc= 0.9738 val loss= 2.1251 val acc= 0.9512\n",
      "Epoch: 0008 train loss= 0.4678 train acc= 0.9781 val loss= 2.0300 val acc= 0.9536\n",
      "Epoch: 0009 train loss= 0.3393 train acc= 0.9826 val loss= 2.0764 val acc= 0.9532\n",
      "Epoch: 0010 train loss= 0.2757 train acc= 0.9847 val loss= 1.9710 val acc= 0.9568\n",
      "Epoch: 0011 train loss= 0.2257 train acc= 0.9869 val loss= 1.8517 val acc= 0.9584\n",
      "Epoch: 0012 train loss= 0.1702 train acc= 0.9889 val loss= 1.8606 val acc= 0.9548\n",
      "Epoch: 0013 train loss= 0.1497 train acc= 0.9905 val loss= 1.7325 val acc= 0.9608\n",
      "Epoch: 0014 train loss= 0.1354 train acc= 0.9911 val loss= 1.8541 val acc= 0.9632\n",
      "Epoch: 0015 train loss= 0.1183 train acc= 0.9915 val loss= 1.7507 val acc= 0.9606\n",
      "Epoch: 0016 train loss= 0.1152 train acc= 0.9923 val loss= 1.8973 val acc= 0.9616\n",
      "Epoch: 0017 train loss= 0.1195 train acc= 0.9923 val loss= 1.6491 val acc= 0.9642\n",
      "Epoch: 0018 train loss= 0.0883 train acc= 0.9940 val loss= 1.8228 val acc= 0.9642\n",
      "Epoch: 0019 train loss= 0.1194 train acc= 0.9927 val loss= 1.8289 val acc= 0.9636\n",
      "Epoch: 0020 train loss= 0.0792 train acc= 0.9948 val loss= 1.6667 val acc= 0.9650\n"
     ]
    }
   ],
   "source": [
    "for epoch in range(training_epochs):\n",
    "    avg_loss = 0.\n",
    "    avg_accuracy = 0.\n",
    "    total_batch = int(data.train.num_examples/batch_size)\n",
    "    \n",
    "    for i in range(total_batch):\n",
    "        batch_xs, batch_ys = data.train.next_batch(batch_size)\n",
    "       \n",
    "        _, loss_, accuracy_, training_summary_ = sess.run(\n",
    "                        [optimize, loss, accuracy, train_summary],\n",
    "                        {x: batch_xs, y: batch_ys})\n",
    "        \n",
    "        global_iteration =  epoch * total_batch + i\n",
    "        summary_writer.add_summary(training_summary_, global_iteration)\n",
    "        \n",
    "        avg_loss += loss_ / total_batch\n",
    "        avg_accuracy += accuracy_ / total_batch\n",
    "        \n",
    "    # Display logs per epoch step. Also runs the model through the validation data\n",
    "    if (epoch+1) % display_epoch == 0:\n",
    "        # Print training results\n",
    "        print(\"Epoch:\", '%04d' % (epoch+1), \"train loss=\", \"{:.4f}\".format(avg_loss),end=' ')\n",
    "        print(\"train acc=\", \"{:.4f}\".format(avg_accuracy),end=' ')\n",
    "        \n",
    "        # Also print and record validation results\n",
    "        xs, ys = data.validation.next_batch(data.validation.num_examples)\n",
    "        \n",
    "        # IMPORTANT: Do not run the optimize node here, as training the model with\n",
    "        # validation data would defeat the purpose of holding out data.\n",
    "        loss_, accuracy_, validation_summary_ = sess.run(\n",
    "                        [loss, accuracy, validation_summary],\n",
    "                        {x: xs, y: ys})\n",
    "        \n",
    "        global_iteration = epoch\n",
    "        summary_writer.add_summary(validation_summary_, global_iteration)\n",
    "        print('val loss= {:.4f}'.format(loss_),end=' ')\n",
    "        print('val acc= {:.4f}'.format(accuracy_))\n",
    "    \n",
    "    saver.save(sess, './models/logreg2.cpt')"
   ]
  }
 ],
 "metadata": {
  "kernelspec": {
   "display_name": "Python 3",
   "language": "python",
   "name": "python3"
  },
  "language_info": {
   "codemirror_mode": {
    "name": "ipython",
    "version": 3
   },
   "file_extension": ".py",
   "mimetype": "text/x-python",
   "name": "python",
   "nbconvert_exporter": "python",
   "pygments_lexer": "ipython3",
   "version": "3.6.1"
  }
 },
 "nbformat": 4,
 "nbformat_minor": 2
}
