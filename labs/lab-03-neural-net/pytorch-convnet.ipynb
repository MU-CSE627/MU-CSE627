{
 "cells": [
  {
   "cell_type": "code",
   "execution_count": 1,
   "metadata": {},
   "outputs": [
    {
     "name": "stdout",
     "output_type": "stream",
     "text": [
      "Populating the interactive namespace from numpy and matplotlib\n"
     ]
    },
    {
     "data": {
      "text/plain": [
       "<Figure size 432x288 with 0 Axes>"
      ]
     },
     "metadata": {},
     "output_type": "display_data"
    }
   ],
   "source": [
    "%pylab inline\n",
    "gray()"
   ]
  },
  {
   "cell_type": "markdown",
   "metadata": {},
   "source": [
    "# Neural Nets -- Abbreviated"
   ]
  },
  {
   "cell_type": "markdown",
   "metadata": {},
   "source": [
    "A modern neural network is the composition of several functions that are differentiable where it matters.  \n",
    "\n",
    "A simple neural net is a chain of functions \n",
    "$$ \\text{net}(x) = (f_1 \\circ f_2 \\circ \\cdots \\circ f_n)(x) $$\n",
    "although the structure can get more complicated than that. \n",
    "\n",
    "Functions are often grouped into _modules_ or _layers_. \n",
    "The classic module is of the form\n",
    "$$ f(a(\\mathbf{x})) $$\n",
    "where $f$ is an activation function and\n",
    "$$ a(x) = W^T\\mathbf{x} $$ \n",
    "with _weight_ metrix $W$ and a homogenous input vector $\\mathbf{x}$ (think $\\phi$ from PRML).\n",
    "The matrix-multipl $$a(x)$$ is often called a _linear_ module. "
   ]
  },
  {
   "cell_type": "markdown",
   "metadata": {},
   "source": [
    "The purpose of $f$ is to add nonlinearity,  \n",
    "Since compositions of linear functions remain linear, there would be no point without adding a bit of nonlinearity between each matrix multiply.    \n",
    "The most common activation function is simpy the relu (threshold) function\n",
    "$$ \\text{relu}(\\mathbf{a}) = max(a, 0)$$"
   ]
  },
  {
   "cell_type": "markdown",
   "metadata": {},
   "source": [
    "For large numbers of input (e.g. every pixel of an image)  we use sparse weight matrices, or weight matrices with special strructure. "
   ]
  },
  {
   "cell_type": "markdown",
   "metadata": {},
   "source": [
    "A _convolution_ matrix  is a sparse weight matrix where every column is a (flattened) translation of an identical kernel ($k_1 \\times k_2$ array of weights), and the number of outputs is roughly proportionate to the number of input pixels.  \n",
    "\n",
    "For example a $256^2$ input image would require $2^{2\\times(8+8)}=2^{32}=4,294,967,296$ weights if the special structure of convolution was not taken into account. In fact there are only 9 unique values. "
   ]
  },
  {
   "cell_type": "markdown",
   "metadata": {},
   "source": [
    "Libraries like pytorch do matrix multiplication and differentiation very efficiently, exploiting special hardware if it is available. "
   ]
  },
  {
   "cell_type": "markdown",
   "metadata": {},
   "source": [
    "They are particlar fast for convolution matrices. "
   ]
  },
  {
   "cell_type": "markdown",
   "metadata": {},
   "source": [
    "# Check your GPU "
   ]
  },
  {
   "cell_type": "markdown",
   "metadata": {},
   "source": [
    "Neural networks use GPUs to accelerate computation. "
   ]
  },
  {
   "cell_type": "markdown",
   "metadata": {},
   "source": [
    "If the next command does not work, then you _either_ do not have a GPU or you have not installed the nvidia CUDA drivers for you GPU. "
   ]
  },
  {
   "cell_type": "code",
   "execution_count": 2,
   "metadata": {},
   "outputs": [
    {
     "data": {
      "text/plain": [
       "'3.8.5 (default, Sep  4 2020, 07:30:14) \\n[GCC 7.3.0]'"
      ]
     },
     "execution_count": 2,
     "metadata": {},
     "output_type": "execute_result"
    }
   ],
   "source": [
    "import sys\n",
    "sys.version"
   ]
  },
  {
   "cell_type": "code",
   "execution_count": 3,
   "metadata": {},
   "outputs": [
    {
     "name": "stdout",
     "output_type": "stream",
     "text": [
      "/bin/bash: nvcc: command not found\n",
      "/bin/bash: nvidia-smi: command not found\n"
     ]
    }
   ],
   "source": [
    "!nvcc --version \n",
    "!nvidia-smi"
   ]
  },
  {
   "cell_type": "markdown",
   "metadata": {},
   "source": [
    "Take note of your operating system, whether you have a GPU, which version of python you have, and which version of cuda is installed. "
   ]
  },
  {
   "cell_type": "markdown",
   "metadata": {},
   "source": [
    "# Install Torch\n",
    "\n",
    "Follow the instructions **appropriate for your system**\n",
    "https://pytorch.org/get-started/locally/ "
   ]
  },
  {
   "cell_type": "markdown",
   "metadata": {},
   "source": [
    "Select the appropriate options for your system, bearing in mind whether you have a GPU.\n"
   ]
  },
  {
   "cell_type": "markdown",
   "metadata": {},
   "source": [
    "**Restart the notbook** so that the python interpreter can process some of the changes made during installation of torchvision. "
   ]
  },
  {
   "cell_type": "code",
   "execution_count": 4,
   "metadata": {},
   "outputs": [],
   "source": [
    "import torch"
   ]
  },
  {
   "cell_type": "code",
   "execution_count": 5,
   "metadata": {},
   "outputs": [],
   "source": [
    "import torchvision"
   ]
  },
  {
   "cell_type": "code",
   "execution_count": 6,
   "metadata": {},
   "outputs": [
    {
     "data": {
      "text/plain": [
       "False"
      ]
     },
     "execution_count": 6,
     "metadata": {},
     "output_type": "execute_result"
    }
   ],
   "source": [
    "torch.cuda.is_available()"
   ]
  },
  {
   "cell_type": "markdown",
   "metadata": {},
   "source": [
    "# An Example"
   ]
  },
  {
   "cell_type": "code",
   "execution_count": 7,
   "metadata": {},
   "outputs": [],
   "source": [
    "from torchvision.datasets import MNIST"
   ]
  },
  {
   "cell_type": "code",
   "execution_count": 8,
   "metadata": {},
   "outputs": [],
   "source": [
    "training_data = MNIST('./mndist', train=True,  download=True)"
   ]
  },
  {
   "cell_type": "code",
   "execution_count": 9,
   "metadata": {},
   "outputs": [
    {
     "data": {
      "text/plain": [
       "Dataset MNIST\n",
       "    Number of datapoints: 60000\n",
       "    Root location: ./mndist\n",
       "    Split: Train"
      ]
     },
     "execution_count": 9,
     "metadata": {},
     "output_type": "execute_result"
    }
   ],
   "source": [
    "training_data"
   ]
  },
  {
   "cell_type": "code",
   "execution_count": 10,
   "metadata": {},
   "outputs": [
    {
     "data": {
      "text/plain": [
       "(<PIL.Image.Image image mode=L size=28x28 at 0x7F07532DFD00>, 5)"
      ]
     },
     "execution_count": 10,
     "metadata": {},
     "output_type": "execute_result"
    }
   ],
   "source": [
    "training_data[0]"
   ]
  },
  {
   "cell_type": "code",
   "execution_count": 11,
   "metadata": {},
   "outputs": [],
   "source": [
    "im, target = training_data[0]"
   ]
  },
  {
   "cell_type": "code",
   "execution_count": 12,
   "metadata": {},
   "outputs": [
    {
     "data": {
      "image/png": "[encoded data removed]",
      "text/plain": [
       "<PIL.Image.Image image mode=L size=28x28 at 0x7F07532DFA00>"
      ]
     },
     "execution_count": 12,
     "metadata": {},
     "output_type": "execute_result"
    }
   ],
   "source": [
    "im"
   ]
  },
  {
   "cell_type": "code",
   "execution_count": 13,
   "metadata": {},
   "outputs": [
    {
     "data": {
      "text/plain": [
       "5"
      ]
     },
     "execution_count": 13,
     "metadata": {},
     "output_type": "execute_result"
    }
   ],
   "source": [
    "target"
   ]
  },
  {
   "cell_type": "code",
   "execution_count": 14,
   "metadata": {},
   "outputs": [
    {
     "data": {
      "image/png": "[encoded data removed]",
      "text/plain": [
       "<Figure size 432x288 with 1 Axes>"
      ]
     },
     "metadata": {
      "needs_background": "light"
     },
     "output_type": "display_data"
    }
   ],
   "source": [
    "imshow(im);\n",
    "title(int(target));\n",
    "xticks([0, im.size[1]-1]);\n",
    "yticks([0, im.size[0]-1]);"
   ]
  },
  {
   "cell_type": "code",
   "execution_count": 15,
   "metadata": {},
   "outputs": [
    {
     "data": {
      "text/plain": [
       "784"
      ]
     },
     "execution_count": 15,
     "metadata": {},
     "output_type": "execute_result"
    }
   ],
   "source": [
    "product(im.size)"
   ]
  },
  {
   "cell_type": "code",
   "execution_count": 16,
   "metadata": {},
   "outputs": [],
   "source": [
    "from torchvision import transforms"
   ]
  },
  {
   "cell_type": "code",
   "execution_count": 17,
   "metadata": {},
   "outputs": [],
   "source": [
    "transform = transforms.Compose(\n",
    "    [transforms.ToTensor()])"
   ]
  },
  {
   "cell_type": "code",
   "execution_count": 18,
   "metadata": {},
   "outputs": [
    {
     "data": {
      "text/plain": [
       "torch.Size([1, 28, 28])"
      ]
     },
     "execution_count": 18,
     "metadata": {},
     "output_type": "execute_result"
    }
   ],
   "source": [
    "transform(im).shape"
   ]
  },
  {
   "cell_type": "code",
   "execution_count": 19,
   "metadata": {},
   "outputs": [],
   "source": [
    "training_data = MNIST('./mndist', train=True,  download=True, transform=transform)"
   ]
  },
  {
   "cell_type": "code",
   "execution_count": 20,
   "metadata": {},
   "outputs": [
    {
     "name": "stdout",
     "output_type": "stream",
     "text": [
      "<class 'torch.Tensor'> 5\n"
     ]
    }
   ],
   "source": [
    "data, target = training_data[0]\n",
    "print(type(data), target)"
   ]
  },
  {
   "cell_type": "code",
   "execution_count": 21,
   "metadata": {},
   "outputs": [
    {
     "data": {
      "image/png": "[encoded data removed]",
      "text/plain": [
       "<Figure size 432x288 with 1 Axes>"
      ]
     },
     "metadata": {
      "needs_background": "light"
     },
     "output_type": "display_data"
    }
   ],
   "source": [
    "imshow(data.permute(1,2,0))\n",
    "text(0, 27, f'Label:{target}', c='y');"
   ]
  },
  {
   "cell_type": "code",
   "execution_count": 22,
   "metadata": {},
   "outputs": [],
   "source": [
    "train_loader = torch.utils.data.DataLoader(training_data, batch_size=4, shuffle=True, num_workers=2)"
   ]
  },
  {
   "cell_type": "code",
   "execution_count": 23,
   "metadata": {},
   "outputs": [],
   "source": [
    "train_iter = iter(train_loader)\n",
    "images, targets = train_iter.next()"
   ]
  },
  {
   "cell_type": "code",
   "execution_count": 24,
   "metadata": {},
   "outputs": [
    {
     "data": {
      "text/plain": [
       "torch.Size([4, 1, 28, 28])"
      ]
     },
     "execution_count": 24,
     "metadata": {},
     "output_type": "execute_result"
    }
   ],
   "source": [
    "images.shape"
   ]
  },
  {
   "cell_type": "code",
   "execution_count": 25,
   "metadata": {},
   "outputs": [
    {
     "data": {
      "text/plain": [
       "torch.Size([4])"
      ]
     },
     "execution_count": 25,
     "metadata": {},
     "output_type": "execute_result"
    }
   ],
   "source": [
    "targets.shape"
   ]
  },
  {
   "cell_type": "code",
   "execution_count": 26,
   "metadata": {},
   "outputs": [],
   "source": [
    "def show_batch(images, targets):\n",
    "    ncols = int(ceil(sqrt(len(images))))\n",
    "    nrows = int(ceil(len(images)/ncols))\n",
    "    for i in range(len(images)):\n",
    "        subplot(nrows, ncols, i+1)\n",
    "        imshow(images[i].permute(1,2,0))\n",
    "        xticks([]); yticks([]); \n",
    "        if targets is not None:\n",
    "            xlabel(str(targets[i].numpy()))"
   ]
  },
  {
   "cell_type": "code",
   "execution_count": 27,
   "metadata": {},
   "outputs": [
    {
     "data": {
      "image/png": "[encoded data removed]",
      "text/plain": [
       "<Figure size 432x288 with 4 Axes>"
      ]
     },
     "metadata": {},
     "output_type": "display_data"
    }
   ],
   "source": [
    "show_batch(images, targets)"
   ]
  },
  {
   "cell_type": "code",
   "execution_count": 28,
   "metadata": {},
   "outputs": [],
   "source": [
    "import torch.nn as nn\n",
    "import torch.nn.functional as F"
   ]
  },
  {
   "cell_type": "code",
   "execution_count": 29,
   "metadata": {},
   "outputs": [
    {
     "data": {
      "text/plain": [
       "torch.Size([4, 1, 28, 28])"
      ]
     },
     "execution_count": 29,
     "metadata": {},
     "output_type": "execute_result"
    }
   ],
   "source": [
    "x = images\n",
    "x.shape"
   ]
  },
  {
   "cell_type": "code",
   "execution_count": 30,
   "metadata": {},
   "outputs": [
    {
     "data": {
      "text/plain": [
       "torch.Size([4, 784])"
      ]
     },
     "execution_count": 30,
     "metadata": {},
     "output_type": "execute_result"
    }
   ],
   "source": [
    "x = x.flatten(1)\n",
    "x.shape"
   ]
  },
  {
   "cell_type": "code",
   "execution_count": 98,
   "metadata": {},
   "outputs": [
    {
     "data": {
      "image/png": "[encoded data removed]",
      "text/plain": [
       "<Figure size 1152x288 with 4 Axes>"
      ]
     },
     "metadata": {
      "needs_background": "light"
     },
     "output_type": "display_data"
    }
   ],
   "source": [
    "figure(figsize=(16, 4))\n",
    "for i, xi in enumerate(x, start=1):\n",
    "    subplot(len(x), 1, i)\n",
    "    imshow(xi[None], aspect='auto')\n",
    "    yticks([]);  xticks([0, len(xi)-1])\n",
    "    ylabel(rf'$x_{i}$')\n",
    "tight_layout()"
   ]
  },
  {
   "cell_type": "markdown",
   "metadata": {},
   "source": [
    "In pytorch, every noded of a computation network is an object.  \n",
    "The object keeps all of its parameters as part of the object's state.  \n",
    "The object also supports the `__call__` interface which allows it to be used as a function.  \n",
    "\n",
    "The next cell creates a new function object (module) named `fc` which stands for \"fully connected\" layer.  \n",
    "A fully connected layer means that every output depends on every input.  \n",
    "Mathematically, it is $$y = W\\mathbf{x} + \\mathbf{b}$$ where $W$ is a general (not necessarily sparse) matrix."
   ]
  },
  {
   "cell_type": "code",
   "execution_count": 31,
   "metadata": {},
   "outputs": [],
   "source": [
    "fc = nn.Linear(784, 10)"
   ]
  },
  {
   "cell_type": "code",
   "execution_count": 32,
   "metadata": {},
   "outputs": [
    {
     "data": {
      "text/plain": [
       "(torch.Size([10, 784]), torch.Size([10]))"
      ]
     },
     "execution_count": 32,
     "metadata": {},
     "output_type": "execute_result"
    }
   ],
   "source": [
    "W, b = fc.parameters()\n",
    "W.shape, b.shape"
   ]
  },
  {
   "cell_type": "markdown",
   "metadata": {},
   "source": [
    "Calling the function 'fc(x)' returns an object from the pytorch library.  \n",
    "The object is called a _tensor_ and it represents an n-dimentional array.   \n",
    "Tensors also keep a reference to the computation graph that computed them.  \n",
    "This way, every tensor keeps its own history and we can use that to compute the derivatives of tensors. "
   ]
  },
  {
   "cell_type": "code",
   "execution_count": 48,
   "metadata": {},
   "outputs": [
    {
     "data": {
      "text/plain": [
       "torch.Size([4, 10])"
      ]
     },
     "execution_count": 48,
     "metadata": {},
     "output_type": "execute_result"
    }
   ],
   "source": [
    "a = fc(x)\n",
    "a.shape"
   ]
  },
  {
   "cell_type": "code",
   "execution_count": 59,
   "metadata": {},
   "outputs": [],
   "source": [
    "%conda install -y -q -c anaconda graphviz\n",
    "%pip install -q torchviz"
   ]
  },
  {
   "cell_type": "code",
   "execution_count": 60,
   "metadata": {},
   "outputs": [],
   "source": [
    "import torchviz"
   ]
  },
  {
   "cell_type": "code",
   "execution_count": 61,
   "metadata": {},
   "outputs": [
    {
     "data": {
      "image/svg+xml": [
       "<?xml version=\"1.0\" encoding=\"UTF-8\" standalone=\"no\"?>\n",
       "<!DOCTYPE svg PUBLIC \"-//W3C//DTD SVG 1.1//EN\"\n",
       " \"http://www.w3.org/Graphics/SVG/1.1/DTD/svg11.dtd\">\n",
       "<!-- Generated by graphviz version 2.40.1 (20161225.0304)\n",
       " -->\n",
       "<!-- Title: %3 Pages: 1 -->\n",
       "<svg width=\"213pt\" height=\"283pt\"\n",
       " viewBox=\"0.00 0.00 213.00 283.00\" xmlns=\"http://www.w3.org/2000/svg\" xmlns:xlink=\"http://www.w3.org/1999/xlink\">\n",
       "<g id=\"graph0\" class=\"graph\" transform=\"scale(1 1) rotate(0) translate(4 279)\">\n",
       "<title>%3</title>\n",
       "<polygon fill=\"#ffffff\" stroke=\"transparent\" points=\"-4,4 -4,-279 209,-279 209,4 -4,4\"/>\n",
       "<!-- 139669386790144 -->\n",
       "<g id=\"node1\" class=\"node\">\n",
       "<title>139669386790144</title>\n",
       "<polygon fill=\"#caff70\" stroke=\"#000000\" points=\"135,-31 70,-31 70,0 135,0 135,-31\"/>\n",
       "<text text-anchor=\"middle\" x=\"102.5\" y=\"-7\" font-family=\"monospace\" font-size=\"10.00\" fill=\"#000000\"> (4, 10)</text>\n",
       "</g>\n",
       "<!-- 139668782653744 -->\n",
       "<g id=\"node2\" class=\"node\">\n",
       "<title>139668782653744</title>\n",
       "<polygon fill=\"#d3d3d3\" stroke=\"#000000\" points=\"150,-86 55,-86 55,-67 150,-67 150,-86\"/>\n",
       "<text text-anchor=\"middle\" x=\"102.5\" y=\"-74\" font-family=\"monospace\" font-size=\"10.00\" fill=\"#000000\">AddmmBackward</text>\n",
       "</g>\n",
       "<!-- 139668782653744&#45;&gt;139669386790144 -->\n",
       "<g id=\"edge6\" class=\"edge\">\n",
       "<title>139668782653744&#45;&gt;139669386790144</title>\n",
       "<path fill=\"none\" stroke=\"#000000\" d=\"M102.5,-66.9688C102.5,-60.1289 102.5,-50.5621 102.5,-41.5298\"/>\n",
       "<polygon fill=\"#000000\" stroke=\"#000000\" points=\"106.0001,-41.3678 102.5,-31.3678 99.0001,-41.3678 106.0001,-41.3678\"/>\n",
       "</g>\n",
       "<!-- 139668782170560 -->\n",
       "<g id=\"node3\" class=\"node\">\n",
       "<title>139668782170560</title>\n",
       "<polygon fill=\"#d3d3d3\" stroke=\"#000000\" points=\"101,-141 0,-141 0,-122 101,-122 101,-141\"/>\n",
       "<text text-anchor=\"middle\" x=\"50.5\" y=\"-129\" font-family=\"monospace\" font-size=\"10.00\" fill=\"#000000\">AccumulateGrad</text>\n",
       "</g>\n",
       "<!-- 139668782170560&#45;&gt;139668782653744 -->\n",
       "<g id=\"edge1\" class=\"edge\">\n",
       "<title>139668782170560&#45;&gt;139668782653744</title>\n",
       "<path fill=\"none\" stroke=\"#000000\" d=\"M59.5577,-121.9197C66.9232,-114.1293 77.5017,-102.9405 86.3161,-93.6176\"/>\n",
       "<polygon fill=\"#000000\" stroke=\"#000000\" points=\"88.8691,-96.0119 93.1959,-86.3408 83.7825,-91.2028 88.8691,-96.0119\"/>\n",
       "</g>\n",
       "<!-- 139669390206912 -->\n",
       "<g id=\"node4\" class=\"node\">\n",
       "<title>139669390206912</title>\n",
       "<polygon fill=\"#add8e6\" stroke=\"#000000\" points=\"77.5,-208 23.5,-208 23.5,-177 77.5,-177 77.5,-208\"/>\n",
       "<text text-anchor=\"middle\" x=\"50.5\" y=\"-184\" font-family=\"monospace\" font-size=\"10.00\" fill=\"#000000\"> (10)</text>\n",
       "</g>\n",
       "<!-- 139669390206912&#45;&gt;139668782170560 -->\n",
       "<g id=\"edge2\" class=\"edge\">\n",
       "<title>139669390206912&#45;&gt;139668782170560</title>\n",
       "<path fill=\"none\" stroke=\"#000000\" d=\"M50.5,-176.791C50.5,-169.0249 50.5,-159.5706 50.5,-151.3129\"/>\n",
       "<polygon fill=\"#000000\" stroke=\"#000000\" points=\"54.0001,-151.0647 50.5,-141.0648 47.0001,-151.0648 54.0001,-151.0647\"/>\n",
       "</g>\n",
       "<!-- 139668782171328 -->\n",
       "<g id=\"node5\" class=\"node\">\n",
       "<title>139668782171328</title>\n",
       "<polygon fill=\"#d3d3d3\" stroke=\"#000000\" points=\"190,-141 119,-141 119,-122 190,-122 190,-141\"/>\n",
       "<text text-anchor=\"middle\" x=\"154.5\" y=\"-129\" font-family=\"monospace\" font-size=\"10.00\" fill=\"#000000\">TBackward</text>\n",
       "</g>\n",
       "<!-- 139668782171328&#45;&gt;139668782653744 -->\n",
       "<g id=\"edge3\" class=\"edge\">\n",
       "<title>139668782171328&#45;&gt;139668782653744</title>\n",
       "<path fill=\"none\" stroke=\"#000000\" d=\"M145.4423,-121.9197C138.0768,-114.1293 127.4983,-102.9405 118.6839,-93.6176\"/>\n",
       "<polygon fill=\"#000000\" stroke=\"#000000\" points=\"121.2175,-91.2028 111.8041,-86.3408 116.1309,-96.0119 121.2175,-91.2028\"/>\n",
       "</g>\n",
       "<!-- 139668782171280 -->\n",
       "<g id=\"node6\" class=\"node\">\n",
       "<title>139668782171280</title>\n",
       "<polygon fill=\"#d3d3d3\" stroke=\"#000000\" points=\"205,-202 104,-202 104,-183 205,-183 205,-202\"/>\n",
       "<text text-anchor=\"middle\" x=\"154.5\" y=\"-190\" font-family=\"monospace\" font-size=\"10.00\" fill=\"#000000\">AccumulateGrad</text>\n",
       "</g>\n",
       "<!-- 139668782171280&#45;&gt;139668782171328 -->\n",
       "<g id=\"edge4\" class=\"edge\">\n",
       "<title>139668782171280&#45;&gt;139668782171328</title>\n",
       "<path fill=\"none\" stroke=\"#000000\" d=\"M154.5,-182.9688C154.5,-174.5131 154.5,-161.8901 154.5,-151.2615\"/>\n",
       "<polygon fill=\"#000000\" stroke=\"#000000\" points=\"158.0001,-151.1656 154.5,-141.1656 151.0001,-151.1657 158.0001,-151.1656\"/>\n",
       "</g>\n",
       "<!-- 139669389441984 -->\n",
       "<g id=\"node7\" class=\"node\">\n",
       "<title>139669389441984</title>\n",
       "<polygon fill=\"#add8e6\" stroke=\"#000000\" points=\"193,-275 116,-275 116,-244 193,-244 193,-275\"/>\n",
       "<text text-anchor=\"middle\" x=\"154.5\" y=\"-251\" font-family=\"monospace\" font-size=\"10.00\" fill=\"#000000\"> (10, 784)</text>\n",
       "</g>\n",
       "<!-- 139669389441984&#45;&gt;139668782171280 -->\n",
       "<g id=\"edge5\" class=\"edge\">\n",
       "<title>139669389441984&#45;&gt;139668782171280</title>\n",
       "<path fill=\"none\" stroke=\"#000000\" d=\"M154.5,-243.9604C154.5,-234.6356 154.5,-222.6748 154.5,-212.6317\"/>\n",
       "<polygon fill=\"#000000\" stroke=\"#000000\" points=\"158.0001,-212.35 154.5,-202.3501 151.0001,-212.3501 158.0001,-212.35\"/>\n",
       "</g>\n",
       "</g>\n",
       "</svg>\n"
      ],
      "text/plain": [
       "<graphviz.dot.Digraph at 0x7f072c2d2c40>"
      ]
     },
     "execution_count": 61,
     "metadata": {},
     "output_type": "execute_result"
    }
   ],
   "source": [
    "torchviz.make_dot(a)"
   ]
  },
  {
   "cell_type": "markdown",
   "metadata": {},
   "source": [
    "In addition to the graph needed to compute its gradient, each tensor also tracks\n",
    "-  A cached gradient tensor -- $\\sum \\nabla_a f_i$ for any $f_i(a)$ that we have asked torch to differentiate.\n",
    "-  A current value"
   ]
  },
  {
   "cell_type": "code",
   "execution_count": 63,
   "metadata": {},
   "outputs": [
    {
     "data": {
      "image/png": "[encoded data removed]",
      "text/plain": [
       "<Figure size 432x288 with 1 Axes>"
      ]
     },
     "metadata": {
      "needs_background": "light"
     },
     "output_type": "display_data"
    }
   ],
   "source": [
    "imshow(a.detach(), interpolation='nearest')\n",
    "xticks(arange(10));"
   ]
  },
  {
   "cell_type": "code",
   "execution_count": 64,
   "metadata": {},
   "outputs": [
    {
     "data": {
      "text/plain": [
       "tensor([5, 9, 4, 2])"
      ]
     },
     "execution_count": 64,
     "metadata": {},
     "output_type": "execute_result"
    }
   ],
   "source": [
    "y = a.argmax(1)\n",
    "y"
   ]
  },
  {
   "cell_type": "code",
   "execution_count": 65,
   "metadata": {},
   "outputs": [
    {
     "data": {
      "image/png": "[encoded data removed]",
      "text/plain": [
       "<Figure size 432x288 with 1 Axes>"
      ]
     },
     "metadata": {
      "needs_background": "light"
     },
     "output_type": "display_data"
    }
   ],
   "source": [
    "imshow(a.detach(), interpolation='nearest')\n",
    "xticks(arange(10));\n",
    "for i, yi in enumerate(y):\n",
    "    text(yi, i, f'{yi}')"
   ]
  },
  {
   "cell_type": "markdown",
   "metadata": {},
   "source": [
    "We have not taken any gradients yer"
   ]
  },
  {
   "cell_type": "code",
   "execution_count": 69,
   "metadata": {},
   "outputs": [
    {
     "name": "stdout",
     "output_type": "stream",
     "text": [
      "None\n"
     ]
    }
   ],
   "source": [
    "print(a._grad)"
   ]
  },
  {
   "cell_type": "code",
   "execution_count": 70,
   "metadata": {},
   "outputs": [],
   "source": [
    "def show_batch(images, targets, predictions=None):\n",
    "    ncols = int(ceil(sqrt(len(images))))\n",
    "    nrows = int(ceil(len(images)/ncols))\n",
    "    for i in range(len(images)):\n",
    "        subplot(nrows, ncols, i+1)\n",
    "        imshow(images[i].numpy().squeeze())\n",
    "        xticks([]); yticks([]); \n",
    "        if predictions is not None:\n",
    "            xlabel(\"P:{}, T:{}\".format( predictions[i].numpy(), targets[i].numpy()))\n",
    "        elif targets is not None:\n",
    "            xlabel(\"T:{}\".format(targets[i].numpy()))\n"
   ]
  },
  {
   "cell_type": "code",
   "execution_count": 71,
   "metadata": {},
   "outputs": [
    {
     "data": {
      "image/png": "[encoded data removed]",
      "text/plain": [
       "<Figure size 432x288 with 4 Axes>"
      ]
     },
     "metadata": {},
     "output_type": "display_data"
    }
   ],
   "source": [
    "show_batch(images, targets, y)"
   ]
  },
  {
   "cell_type": "markdown",
   "metadata": {},
   "source": [
    "We can create our _own_ function objects (modules) by extenting `torch.nn.Module`. "
   ]
  },
  {
   "cell_type": "code",
   "execution_count": 100,
   "metadata": {},
   "outputs": [],
   "source": [
    "class MyNet(nn.Module):\n",
    "    def __init__(self):\n",
    "        super().__init__()\n",
    "        self.fc = nn.Linear(784, 10)\n",
    "        \n",
    "    def forward(self, x):\n",
    "        x = x.flatten(1)  # flatten domension 1 and higher (4, 1, 27, 27) => (4, 724)\n",
    "        a = self.fc(x)\n",
    "        return a   "
   ]
  },
  {
   "cell_type": "markdown",
   "metadata": {},
   "source": [
    "We do **NOT** override the `__call__` operator because pytorch does some bookkeeping there.   \n",
    "Pytorch provides the `forward` method as an extension point for us to use.  \n",
    "The idea is to implement the function using only _modules_ that already exist in pytorch.   \n",
    "Then pytorch will _automagically_ provide a `backward` method.   \n",
    "If autodifferentiation wont work or is too inefficient, you can implement `backward` yourself. "
   ]
  },
  {
   "cell_type": "code",
   "execution_count": 101,
   "metadata": {},
   "outputs": [
    {
     "data": {
      "text/plain": [
       "MyNet(\n",
       "  (fc): Linear(in_features=784, out_features=10, bias=True)\n",
       ")"
      ]
     },
     "execution_count": 101,
     "metadata": {},
     "output_type": "execute_result"
    }
   ],
   "source": [
    "net = MyNet()\n",
    "net"
   ]
  },
  {
   "cell_type": "markdown",
   "metadata": {},
   "source": [
    "Notice that pytorch was able to use _reflection_ in order to determine the modules kept as attributes"
   ]
  },
  {
   "cell_type": "markdown",
   "metadata": {},
   "source": [
    "All of the parameters that control the behavior of a module are accessible as a `state_dict` dictionary"
   ]
  },
  {
   "cell_type": "code",
   "execution_count": 104,
   "metadata": {},
   "outputs": [
    {
     "data": {
      "text/plain": [
       "OrderedDict([('fc.weight',\n",
       "              tensor([[-0.0327, -0.0157,  0.0145,  ..., -0.0186,  0.0135, -0.0298],\n",
       "                      [ 0.0117,  0.0253, -0.0076,  ...,  0.0186, -0.0131,  0.0234],\n",
       "                      [-0.0090, -0.0227, -0.0314,  ...,  0.0312, -0.0043,  0.0208],\n",
       "                      ...,\n",
       "                      [-0.0235, -0.0142,  0.0252,  ..., -0.0154,  0.0331, -0.0286],\n",
       "                      [ 0.0342,  0.0002,  0.0013,  ..., -0.0158, -0.0325, -0.0050],\n",
       "                      [-0.0285,  0.0294,  0.0054,  ...,  0.0229, -0.0307,  0.0175]])),\n",
       "             ('fc.bias',\n",
       "              tensor([-0.0110,  0.0170, -0.0234, -0.0348,  0.0244,  0.0217,  0.0148,  0.0166,\n",
       "                      -0.0275,  0.0077]))])"
      ]
     },
     "execution_count": 104,
     "metadata": {},
     "output_type": "execute_result"
    }
   ],
   "source": [
    "net.state_dict()"
   ]
  },
  {
   "cell_type": "markdown",
   "metadata": {},
   "source": [
    "And also you can iterate over them (without names) using `net.parameters()`"
   ]
  },
  {
   "cell_type": "markdown",
   "metadata": {},
   "source": [
    "In order to train a net we need a loss function (energy).  \n",
    "We call this the _criteria_"
   ]
  },
  {
   "cell_type": "code",
   "execution_count": 107,
   "metadata": {},
   "outputs": [
    {
     "data": {
      "text/plain": [
       "CrossEntropyLoss()"
      ]
     },
     "execution_count": 107,
     "metadata": {},
     "output_type": "execute_result"
    }
   ],
   "source": [
    "criterion = nn.CrossEntropyLoss()\n",
    "criterion"
   ]
  },
  {
   "cell_type": "markdown",
   "metadata": {},
   "source": [
    "Neural networks are almost always optimized using a _variant_ of Stocahstic Gradient Descent (SGD).   \n",
    "SGD and its variants are provided by `torch.optim`.  \n",
    "The expect an iterator of parameters (wich kepe track of their part of the gradient as mentioned above) and the learning rate.  \n",
    "Different variants use other parameters.  "
   ]
  },
  {
   "cell_type": "code",
   "execution_count": 108,
   "metadata": {},
   "outputs": [],
   "source": [
    "import torch.optim as optim\n",
    "\n",
    "optimizer = optim.SGD(net.parameters(), lr=0.001, momentum=0.9) # Will discuss lr and momentum later"
   ]
  },
  {
   "cell_type": "markdown",
   "metadata": {},
   "source": [
    "The optimizer has a `step` method that does one iteration\n",
    "$$w = w - \\eta \\nabla_w E$$\n",
    "where we assume $\\nabla_w E$ is stored in the tensors.  \n",
    "$\\eta$ is the learning rate"
   ]
  },
  {
   "cell_type": "markdown",
   "metadata": {},
   "source": [
    "Momentum is decribed [here](https://ruder.io/optimizing-gradient-descent/),  but it basically it uses the gradient as an _acceleration_ vector rather than a velocity vector. "
   ]
  },
  {
   "cell_type": "markdown",
   "metadata": {},
   "source": [
    "The next cell may take a while to execute"
   ]
  },
  {
   "cell_type": "markdown",
   "metadata": {},
   "source": [
    "This is not so important on such a small dataset / model, but for larger problems the (linear) time sivings add up. "
   ]
  },
  {
   "cell_type": "code",
   "execution_count": 115,
   "metadata": {},
   "outputs": [
    {
     "name": "stdout",
     "output_type": "stream",
     "text": [
      "epoch:0, iter:  500,  loss: 0.30238825534284114\n",
      "epoch:0, iter: 1000,  loss: 0.29248743689944967\n",
      "epoch:0, iter: 1500,  loss: 0.3065366065537091\n",
      "epoch:0, iter: 2000,  loss: 0.3053464318793267\n",
      "epoch:0, iter: 2500,  loss: 0.3036062333993614\n",
      "epoch:0, iter: 3000,  loss: 0.24704447036143393\n",
      "epoch:0, iter: 3500,  loss: 0.33464191424893214\n",
      "epoch:0, iter: 4000,  loss: 0.31752874087775124\n",
      "epoch:0, iter: 4500,  loss: 0.3243060126765631\n",
      "epoch:0, iter: 5000,  loss: 0.30786731051048266\n",
      "epoch:0, iter: 5500,  loss: 0.31717726216150915\n",
      "epoch:0, iter: 6000,  loss: 0.2958904867172241\n",
      "epoch:0, iter: 6500,  loss: 0.27514303049701266\n",
      "epoch:0, iter: 7000,  loss: 0.29931818961165846\n",
      "epoch:0, iter: 7500,  loss: 0.30025498509872706\n",
      "epoch:0, iter: 8000,  loss: 0.29287919141515156\n",
      "epoch:0, iter: 8500,  loss: 0.32035988138942045\n",
      "epoch:0, iter: 9000,  loss: 0.30784767076931896\n",
      "epoch:0, iter: 9500,  loss: 0.268956490348326\n",
      "epoch:0, iter:10000,  loss: 0.30484029555134473\n",
      "epoch:0, iter:10500,  loss: 0.2843890790315345\n",
      "epoch:0, iter:11000,  loss: 0.26853573862137275\n",
      "epoch:0, iter:11500,  loss: 0.26481638912158084\n",
      "epoch:0, iter:12000,  loss: 0.3041023168284446\n",
      "epoch:0, iter:12500,  loss: 0.30625022199191154\n",
      "epoch:0, iter:13000,  loss: 0.3424843939729035\n",
      "epoch:0, iter:13500,  loss: 0.26236769173666835\n",
      "epoch:0, iter:14000,  loss: 0.2844886929634958\n",
      "epoch:0, iter:14500,  loss: 0.27187756685726344\n",
      "epoch:0, iter:15000,  loss: 0.26932683161087334\n",
      "epoch:1, iter:  500,  loss: 0.3245073927580379\n",
      "epoch:1, iter: 1000,  loss: 0.2684014476165175\n",
      "epoch:1, iter: 1500,  loss: 0.3123126937765628\n",
      "epoch:1, iter: 2000,  loss: 0.28445615904126315\n",
      "epoch:1, iter: 2500,  loss: 0.3024959870367311\n",
      "epoch:1, iter: 3000,  loss: 0.284620402390603\n",
      "epoch:1, iter: 3500,  loss: 0.2850011431220919\n",
      "epoch:1, iter: 4000,  loss: 0.2694142306018621\n",
      "epoch:1, iter: 4500,  loss: 0.295269970072899\n",
      "epoch:1, iter: 5000,  loss: 0.27783127464633434\n",
      "epoch:1, iter: 5500,  loss: 0.2782116743691731\n",
      "epoch:1, iter: 6000,  loss: 0.2790021131481044\n",
      "epoch:1, iter: 6500,  loss: 0.32654827141575515\n",
      "epoch:1, iter: 7000,  loss: 0.2799376997994259\n",
      "epoch:1, iter: 7500,  loss: 0.288829357100185\n",
      "epoch:1, iter: 8000,  loss: 0.29789146353374235\n",
      "epoch:1, iter: 8500,  loss: 0.2631793955694884\n",
      "epoch:1, iter: 9000,  loss: 0.2970683991969563\n",
      "epoch:1, iter: 9500,  loss: 0.23701209357986228\n",
      "epoch:1, iter:10000,  loss: 0.2978543575751828\n",
      "epoch:1, iter:10500,  loss: 0.2978880594968796\n",
      "epoch:1, iter:11000,  loss: 0.2693324363916181\n",
      "epoch:1, iter:11500,  loss: 0.3026816390543245\n",
      "epoch:1, iter:12000,  loss: 0.2778597447061911\n",
      "epoch:1, iter:12500,  loss: 0.27589921819861046\n",
      "epoch:1, iter:13000,  loss: 0.28783636110555383\n",
      "epoch:1, iter:13500,  loss: 0.30887242245324886\n",
      "epoch:1, iter:14000,  loss: 0.28834136936767024\n",
      "epoch:1, iter:14500,  loss: 0.2839889433225617\n",
      "epoch:1, iter:15000,  loss: 0.305181660859962\n",
      "Finished Training\n"
     ]
    }
   ],
   "source": [
    "log_interval = 500\n",
    "for epoch in range(2):  # loop over the dataset multiple times\n",
    "    running_loss = 0.0\n",
    "    for i, data in enumerate(train_loader, 1):\n",
    "        # get the inputs\n",
    "        inputs, labels = data\n",
    "\n",
    "        # zero the cached parameter gradients\n",
    "        optimizer.zero_grad()\n",
    "\n",
    "        # forward + backward + optimize\n",
    "        outputs = net(inputs)               \n",
    "        loss = criterion(outputs, labels)   \n",
    "        loss.backward()                 \n",
    "        optimizer.step()\n",
    "\n",
    "        # print statistics\n",
    "        running_loss += loss.item()\n",
    "        if i % log_interval == 0:    # print every log_interval mini-batches\n",
    "            print(f'epoch:{epoch}, iter:{i:5},  loss: {running_loss / log_interval}' )\n",
    "            running_loss = 0.0\n",
    "\n",
    "print('Finished Training')\n"
   ]
  },
  {
   "cell_type": "code",
   "execution_count": 116,
   "metadata": {},
   "outputs": [],
   "source": [
    "y = net(images).argmax(1)"
   ]
  },
  {
   "cell_type": "code",
   "execution_count": 117,
   "metadata": {},
   "outputs": [
    {
     "data": {
      "image/png": "[encoded data removed]",
      "text/plain": [
       "<Figure size 432x288 with 4 Axes>"
      ]
     },
     "metadata": {},
     "output_type": "display_data"
    }
   ],
   "source": [
    "show_batch(images, targets, y)"
   ]
  },
  {
   "cell_type": "markdown",
   "metadata": {},
   "source": [
    "**ALERT: This was ALL on TRAINING data -- we NEED TEST!!!***"
   ]
  },
  {
   "cell_type": "code",
   "execution_count": 118,
   "metadata": {},
   "outputs": [],
   "source": [
    "test_data = MNIST('./mndist', train=False,  download=True, transform=transform)\n",
    "test_loader = torch.utils.data.DataLoader(test_data, batch_size=4, num_workers=2)"
   ]
  },
  {
   "cell_type": "code",
   "execution_count": 119,
   "metadata": {},
   "outputs": [],
   "source": [
    "with torch.no_grad():\n",
    "    cm = np.zeros((10,10), dtype=np.int64)\n",
    "    for x, y in iter(test_loader):\n",
    "        p = net(x).argmax(1).numpy()\n",
    "        for pred, true in zip(p, y):\n",
    "            cm[int(pred), int(true)] += 1"
   ]
  },
  {
   "cell_type": "code",
   "execution_count": 120,
   "metadata": {},
   "outputs": [
    {
     "data": {
      "text/html": [
       "<div>\n",
       "<style scoped>\n",
       "    .dataframe tbody tr th:only-of-type {\n",
       "        vertical-align: middle;\n",
       "    }\n",
       "\n",
       "    .dataframe tbody tr th {\n",
       "        vertical-align: top;\n",
       "    }\n",
       "\n",
       "    .dataframe thead th {\n",
       "        text-align: right;\n",
       "    }\n",
       "</style>\n",
       "<table border=\"1\" class=\"dataframe\">\n",
       "  <thead>\n",
       "    <tr style=\"text-align: right;\">\n",
       "      <th></th>\n",
       "      <th>0</th>\n",
       "      <th>1</th>\n",
       "      <th>2</th>\n",
       "      <th>3</th>\n",
       "      <th>4</th>\n",
       "      <th>5</th>\n",
       "      <th>6</th>\n",
       "      <th>7</th>\n",
       "      <th>8</th>\n",
       "      <th>9</th>\n",
       "    </tr>\n",
       "  </thead>\n",
       "  <tbody>\n",
       "    <tr>\n",
       "      <th>0</th>\n",
       "      <td>965</td>\n",
       "      <td>0</td>\n",
       "      <td>11</td>\n",
       "      <td>3</td>\n",
       "      <td>1</td>\n",
       "      <td>10</td>\n",
       "      <td>14</td>\n",
       "      <td>2</td>\n",
       "      <td>8</td>\n",
       "      <td>12</td>\n",
       "    </tr>\n",
       "    <tr>\n",
       "      <th>1</th>\n",
       "      <td>0</td>\n",
       "      <td>1109</td>\n",
       "      <td>8</td>\n",
       "      <td>0</td>\n",
       "      <td>2</td>\n",
       "      <td>3</td>\n",
       "      <td>3</td>\n",
       "      <td>8</td>\n",
       "      <td>6</td>\n",
       "      <td>7</td>\n",
       "    </tr>\n",
       "    <tr>\n",
       "      <th>2</th>\n",
       "      <td>2</td>\n",
       "      <td>2</td>\n",
       "      <td>912</td>\n",
       "      <td>20</td>\n",
       "      <td>2</td>\n",
       "      <td>3</td>\n",
       "      <td>4</td>\n",
       "      <td>20</td>\n",
       "      <td>6</td>\n",
       "      <td>2</td>\n",
       "    </tr>\n",
       "    <tr>\n",
       "      <th>3</th>\n",
       "      <td>1</td>\n",
       "      <td>2</td>\n",
       "      <td>16</td>\n",
       "      <td>923</td>\n",
       "      <td>2</td>\n",
       "      <td>33</td>\n",
       "      <td>2</td>\n",
       "      <td>8</td>\n",
       "      <td>24</td>\n",
       "      <td>11</td>\n",
       "    </tr>\n",
       "    <tr>\n",
       "      <th>4</th>\n",
       "      <td>0</td>\n",
       "      <td>0</td>\n",
       "      <td>13</td>\n",
       "      <td>0</td>\n",
       "      <td>924</td>\n",
       "      <td>9</td>\n",
       "      <td>10</td>\n",
       "      <td>6</td>\n",
       "      <td>9</td>\n",
       "      <td>54</td>\n",
       "    </tr>\n",
       "    <tr>\n",
       "      <th>5</th>\n",
       "      <td>3</td>\n",
       "      <td>2</td>\n",
       "      <td>1</td>\n",
       "      <td>23</td>\n",
       "      <td>1</td>\n",
       "      <td>774</td>\n",
       "      <td>17</td>\n",
       "      <td>1</td>\n",
       "      <td>29</td>\n",
       "      <td>13</td>\n",
       "    </tr>\n",
       "    <tr>\n",
       "      <th>6</th>\n",
       "      <td>6</td>\n",
       "      <td>4</td>\n",
       "      <td>13</td>\n",
       "      <td>2</td>\n",
       "      <td>13</td>\n",
       "      <td>14</td>\n",
       "      <td>903</td>\n",
       "      <td>0</td>\n",
       "      <td>9</td>\n",
       "      <td>0</td>\n",
       "    </tr>\n",
       "    <tr>\n",
       "      <th>7</th>\n",
       "      <td>1</td>\n",
       "      <td>2</td>\n",
       "      <td>15</td>\n",
       "      <td>15</td>\n",
       "      <td>4</td>\n",
       "      <td>7</td>\n",
       "      <td>3</td>\n",
       "      <td>965</td>\n",
       "      <td>14</td>\n",
       "      <td>48</td>\n",
       "    </tr>\n",
       "    <tr>\n",
       "      <th>8</th>\n",
       "      <td>2</td>\n",
       "      <td>14</td>\n",
       "      <td>40</td>\n",
       "      <td>19</td>\n",
       "      <td>9</td>\n",
       "      <td>33</td>\n",
       "      <td>2</td>\n",
       "      <td>3</td>\n",
       "      <td>866</td>\n",
       "      <td>9</td>\n",
       "    </tr>\n",
       "    <tr>\n",
       "      <th>9</th>\n",
       "      <td>0</td>\n",
       "      <td>0</td>\n",
       "      <td>3</td>\n",
       "      <td>5</td>\n",
       "      <td>24</td>\n",
       "      <td>6</td>\n",
       "      <td>0</td>\n",
       "      <td>15</td>\n",
       "      <td>3</td>\n",
       "      <td>853</td>\n",
       "    </tr>\n",
       "  </tbody>\n",
       "</table>\n",
       "</div>"
      ],
      "text/plain": [
       "     0     1    2    3    4    5    6    7    8    9\n",
       "0  965     0   11    3    1   10   14    2    8   12\n",
       "1    0  1109    8    0    2    3    3    8    6    7\n",
       "2    2     2  912   20    2    3    4   20    6    2\n",
       "3    1     2   16  923    2   33    2    8   24   11\n",
       "4    0     0   13    0  924    9   10    6    9   54\n",
       "5    3     2    1   23    1  774   17    1   29   13\n",
       "6    6     4   13    2   13   14  903    0    9    0\n",
       "7    1     2   15   15    4    7    3  965   14   48\n",
       "8    2    14   40   19    9   33    2    3  866    9\n",
       "9    0     0    3    5   24    6    0   15    3  853"
      ]
     },
     "execution_count": 120,
     "metadata": {},
     "output_type": "execute_result"
    }
   ],
   "source": [
    "import pandas as pd\n",
    "df_cm = pd.DataFrame(cm, index = arange(10), columns = arange(10))\n",
    "df_cm"
   ]
  },
  {
   "cell_type": "markdown",
   "metadata": {},
   "source": [
    "Install $\\texttt{seaborn}$ to plot confusion matrices (and many other things) easily.   "
   ]
  },
  {
   "cell_type": "code",
   "execution_count": 122,
   "metadata": {},
   "outputs": [
    {
     "name": "stdout",
     "output_type": "stream",
     "text": [
      "Note: you may need to restart the kernel to use updated packages.\n"
     ]
    }
   ],
   "source": [
    "%pip install -q seaborn \n",
    "import seaborn as sn"
   ]
  },
  {
   "cell_type": "code",
   "execution_count": 123,
   "metadata": {},
   "outputs": [
    {
     "data": {
      "image/png": "[encoded data removed]",
      "text/plain": [
       "<Figure size 720x504 with 2 Axes>"
      ]
     },
     "metadata": {
      "needs_background": "light"
     },
     "output_type": "display_data"
    }
   ],
   "source": [
    "figure(figsize = (10,7))\n",
    "sn.heatmap(df_cm, fmt='d', annot=True);\n",
    "ylabel('pred')\n",
    "xlabel('true');"
   ]
  },
  {
   "cell_type": "code",
   "execution_count": 124,
   "metadata": {},
   "outputs": [
    {
     "data": {
      "text/plain": [
       "0.9194"
      ]
     },
     "execution_count": 124,
     "metadata": {},
     "output_type": "execute_result"
    }
   ],
   "source": [
    "acc = np.trace(cm)/ np.sum(cm)\n",
    "acc"
   ]
  },
  {
   "cell_type": "code",
   "execution_count": 125,
   "metadata": {},
   "outputs": [],
   "source": [
    "def report_from_cm(cm, labels, beta=1):\n",
    "    df = pd.DataFrame(index=list(labels)+['avg/total'], columns=['precision', 'recall', 'fmeasure','support'])\n",
    "    for i, label in enumerate(labels):\n",
    "        tp = cm[i,i]\n",
    "        p = cm[i,:].sum()\n",
    "        support = cm[:,i].sum()\n",
    "        fp = p-tp\n",
    "        fn = support-tp\n",
    "        precision = tp / (tp + fp)\n",
    "        recall = tp / (tp + fn)\n",
    "        fmeasure = (1+beta**2)*precision*recall/((beta**2)*precision + recall)\n",
    "        df['precision'][label] = precision\n",
    "        df['recall'][label] = recall\n",
    "        df['fmeasure'][label] = fmeasure\n",
    "        df['support'][label] = support\n",
    "    df['precision']['avg/total'] = df['precision'][:'avg/total'].mean()\n",
    "    df['recall']['avg/total'] = df['recall'][:'avg/total'].mean()\n",
    "    df['fmeasure']['avg/total'] = df['fmeasure'][:'avg/total'].mean()\n",
    "    df['support']['avg/total'] = df['support'][:'avg/total'].sum()\n",
    "    return df"
   ]
  },
  {
   "cell_type": "code",
   "execution_count": 126,
   "metadata": {},
   "outputs": [
    {
     "data": {
      "text/html": [
       "<div>\n",
       "<style scoped>\n",
       "    .dataframe tbody tr th:only-of-type {\n",
       "        vertical-align: middle;\n",
       "    }\n",
       "\n",
       "    .dataframe tbody tr th {\n",
       "        vertical-align: top;\n",
       "    }\n",
       "\n",
       "    .dataframe thead th {\n",
       "        text-align: right;\n",
       "    }\n",
       "</style>\n",
       "<table border=\"1\" class=\"dataframe\">\n",
       "  <thead>\n",
       "    <tr style=\"text-align: right;\">\n",
       "      <th></th>\n",
       "      <th>precision</th>\n",
       "      <th>recall</th>\n",
       "      <th>fmeasure</th>\n",
       "      <th>support</th>\n",
       "    </tr>\n",
       "  </thead>\n",
       "  <tbody>\n",
       "    <tr>\n",
       "      <th>0</th>\n",
       "      <td>0.940546</td>\n",
       "      <td>0.984694</td>\n",
       "      <td>0.962114</td>\n",
       "      <td>980</td>\n",
       "    </tr>\n",
       "    <tr>\n",
       "      <th>1</th>\n",
       "      <td>0.967714</td>\n",
       "      <td>0.977093</td>\n",
       "      <td>0.972381</td>\n",
       "      <td>1135</td>\n",
       "    </tr>\n",
       "    <tr>\n",
       "      <th>2</th>\n",
       "      <td>0.937307</td>\n",
       "      <td>0.883721</td>\n",
       "      <td>0.909726</td>\n",
       "      <td>1032</td>\n",
       "    </tr>\n",
       "    <tr>\n",
       "      <th>3</th>\n",
       "      <td>0.903131</td>\n",
       "      <td>0.913861</td>\n",
       "      <td>0.908465</td>\n",
       "      <td>1010</td>\n",
       "    </tr>\n",
       "    <tr>\n",
       "      <th>4</th>\n",
       "      <td>0.901463</td>\n",
       "      <td>0.940937</td>\n",
       "      <td>0.920777</td>\n",
       "      <td>982</td>\n",
       "    </tr>\n",
       "    <tr>\n",
       "      <th>5</th>\n",
       "      <td>0.895833</td>\n",
       "      <td>0.867713</td>\n",
       "      <td>0.881549</td>\n",
       "      <td>892</td>\n",
       "    </tr>\n",
       "    <tr>\n",
       "      <th>6</th>\n",
       "      <td>0.936722</td>\n",
       "      <td>0.942589</td>\n",
       "      <td>0.939646</td>\n",
       "      <td>958</td>\n",
       "    </tr>\n",
       "    <tr>\n",
       "      <th>7</th>\n",
       "      <td>0.89851</td>\n",
       "      <td>0.938716</td>\n",
       "      <td>0.918173</td>\n",
       "      <td>1028</td>\n",
       "    </tr>\n",
       "    <tr>\n",
       "      <th>8</th>\n",
       "      <td>0.868606</td>\n",
       "      <td>0.889117</td>\n",
       "      <td>0.878742</td>\n",
       "      <td>974</td>\n",
       "    </tr>\n",
       "    <tr>\n",
       "      <th>9</th>\n",
       "      <td>0.938394</td>\n",
       "      <td>0.845391</td>\n",
       "      <td>0.889468</td>\n",
       "      <td>1009</td>\n",
       "    </tr>\n",
       "    <tr>\n",
       "      <th>avg/total</th>\n",
       "      <td>0.918823</td>\n",
       "      <td>0.918383</td>\n",
       "      <td>0.918104</td>\n",
       "      <td>10000</td>\n",
       "    </tr>\n",
       "  </tbody>\n",
       "</table>\n",
       "</div>"
      ],
      "text/plain": [
       "          precision    recall  fmeasure support\n",
       "0          0.940546  0.984694  0.962114     980\n",
       "1          0.967714  0.977093  0.972381    1135\n",
       "2          0.937307  0.883721  0.909726    1032\n",
       "3          0.903131  0.913861  0.908465    1010\n",
       "4          0.901463  0.940937  0.920777     982\n",
       "5          0.895833  0.867713  0.881549     892\n",
       "6          0.936722  0.942589  0.939646     958\n",
       "7           0.89851  0.938716  0.918173    1028\n",
       "8          0.868606  0.889117  0.878742     974\n",
       "9          0.938394  0.845391  0.889468    1009\n",
       "avg/total  0.918823  0.918383  0.918104   10000"
      ]
     },
     "execution_count": 126,
     "metadata": {},
     "output_type": "execute_result"
    }
   ],
   "source": [
    "report_from_cm(cm, range(10))"
   ]
  },
  {
   "cell_type": "markdown",
   "metadata": {},
   "source": [
    "# Lab Activity\n",
    "\n",
    "\n",
    "Modify the training code as follows:\n",
    "1. (Optional) Add a `torchvision.transforms.Resize` to the transforms to reduce the size of each image (e.g. to 8x8) so that training is fast on your computer.   \n",
    "1. Keep track of the loss after each checkpoint so that you can plot it when training completes. \n",
    "2. At each checkpoint, compute the loss on the evaluation data and save it to a different list so that you can plot bothe the training _and_ the test loss when training completes. \n",
    "3. If necessary, increase the number of epochs until you can see that you overfit the data. \n",
    "4. Submit **only** a printout of the plot of training vs test loss, and the code for the training loop. "
   ]
  },
  {
   "cell_type": "code",
   "execution_count": null,
   "metadata": {},
   "outputs": [],
   "source": []
  }
 ],
 "metadata": {
  "kernelspec": {
   "display_name": "Python 3",
   "language": "python",
   "name": "python3"
  },
  "language_info": {
   "codemirror_mode": {
    "name": "ipython",
    "version": 3
   },
   "file_extension": ".py",
   "mimetype": "text/x-python",
   "name": "python",
   "nbconvert_exporter": "python",
   "pygments_lexer": "ipython3",
   "version": "3.8.5"
  },
  "latex_envs": {
   "LaTeX_envs_menu_present": true,
   "autoclose": false,
   "autocomplete": true,
   "bibliofile": "biblio.bib",
   "cite_by": "apalike",
   "current_citInitial": 1,
   "eqLabelWithNumbers": true,
   "eqNumInitial": 1,
   "hotkeys": {
    "equation": "Ctrl-E",
    "itemize": "Ctrl-I"
   },
   "labels_anchors": false,
   "latex_user_defs": false,
   "report_style_numbering": false,
   "user_envs_cfg": false
  },
  "widgets": {
   "application/vnd.jupyter.widget-state+json": {
    "state": {},
    "version_major": 2,
    "version_minor": 0
   }
  }
 },
 "nbformat": 4,
 "nbformat_minor": 4
}
